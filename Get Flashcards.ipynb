{
 "cells": [
  {
   "cell_type": "markdown",
   "metadata": {
    "collapsed": true
   },
   "source": [
    "# Get Flashcards\n"
   ]
  },
  {
   "cell_type": "code",
   "execution_count": 1,
   "metadata": {
    "ExecuteTime": {
     "end_time": "2020-06-19T16:35:12.067827Z",
     "start_time": "2020-06-19T16:35:11.701451Z"
    }
   },
   "outputs": [],
   "source": [
    "import tweepy \n",
    "import wget\n",
    "import os"
   ]
  },
  {
   "cell_type": "code",
   "execution_count": 2,
   "metadata": {
    "ExecuteTime": {
     "end_time": "2020-06-19T16:35:12.081619Z",
     "start_time": "2020-06-19T16:35:12.071067Z"
    }
   },
   "outputs": [],
   "source": [
    "api_key             = \"m0MsGGWMsxguckROoWKxy2UKn\"\n",
    "api_secret_key      = \"xlSlugyguaBF0YfocFmcC6ErdUhAceA3b9r5J0V4QumXlUhFJ9\"\n",
    "access_token        = \"3290254005-o2yoOOoDozHiZbsUmwCZDB4wGjpmeGz0EDZpncF\"\n",
    "access_token_secret = \"7FFwa1gmNVYbn8Zd5YyiDXxbaLn30ZVhpAHaOtpGYTi3Y\"\n",
    "\n",
    "consumer_key        = api_key\n",
    "consumer_secret     = api_secret_key\n",
    "access_token        = access_token\n",
    "access_token_secret = access_token_secret"
   ]
  },
  {
   "cell_type": "code",
   "execution_count": 3,
   "metadata": {
    "ExecuteTime": {
     "end_time": "2020-06-19T16:35:25.693888Z",
     "start_time": "2020-06-19T16:35:12.084914Z"
    }
   },
   "outputs": [],
   "source": [
    "auth = tweepy.OAuthHandler(consumer_key, consumer_secret) #Fill these in\n",
    "auth.set_access_token(access_token, access_token_secret)  #Fill these in\n",
    "\n",
    "api = tweepy.API(auth)\n",
    "\n",
    "# Obtenha 200 tweet de Chris\n",
    "tweets = api.user_timeline(screen_name = 'chrisalbon', \n",
    "                           count = 200, \n",
    "                           include_rts = False, \n",
    "                           excludereplies = True)\n",
    "\n",
    "# 200 não é suficiente. Continue recebendo tweets até que não possamos mais receber\n",
    "\n",
    "last_id = tweets[-1].id\n",
    " \n",
    "while (True):\n",
    "    more_tweets = api.user_timeline(screen_name='chrisalbon',\n",
    "                                count=200,\n",
    "                                include_rts=False,\n",
    "                                exclude_replies=True,\n",
    "                                max_id=last_id-1)\n",
    "                                    \n",
    "    # Não há mais tweets\n",
    "    if (len(more_tweets) == 0):\n",
    "          break\n",
    "    else:\n",
    "        last_id = more_tweets[-1].id-1\n",
    "        tweets += more_tweets\n",
    "        \n",
    "      "
   ]
  },
  {
   "cell_type": "code",
   "execution_count": 4,
   "metadata": {
    "ExecuteTime": {
     "end_time": "2020-06-19T16:35:25.711112Z",
     "start_time": "2020-06-19T16:35:25.696089Z"
    }
   },
   "outputs": [],
   "source": [
    "#Chris parou de usar uma hashtag e começou a ligar um URL\n",
    "def has_ML_url(s):\n",
    "    urls = s.entities.get('urls')\n",
    "    if urls:\n",
    "        return(urls[0].get('display_url') == 'machinelearningflashcards.com')\n",
    "    else:\n",
    "        return False\n"
   ]
  },
  {
   "cell_type": "code",
   "execution_count": 5,
   "metadata": {
    "ExecuteTime": {
     "end_time": "2020-06-19T16:35:25.733588Z",
     "start_time": "2020-06-19T16:35:25.716222Z"
    }
   },
   "outputs": [],
   "source": [
    "#Filtrar por aqueles que contêm machinelearningflashcards.com\n",
    "card_tweets = [tweet for tweet in tweets if has_ML_url(tweet)]"
   ]
  },
  {
   "cell_type": "code",
   "execution_count": 6,
   "metadata": {
    "ExecuteTime": {
     "end_time": "2020-06-19T16:35:25.762967Z",
     "start_time": "2020-06-19T16:35:25.745472Z"
    }
   },
   "outputs": [],
   "source": [
    "media_files = dict()\n",
    "for status in card_tweets:\n",
    "    title = status.text.split(' http')[0]\n",
    "    media = status.entities.get('media', [])\n",
    "    if(len(media) > 0 and media[0]['type']=='photo' ):  #se tweet tem mídia e mídia é foto\n",
    "        media_files[title] = media[0]['media_url']  # pegue o URL"
   ]
  },
  {
   "cell_type": "code",
   "execution_count": 8,
   "metadata": {
    "ExecuteTime": {
     "end_time": "2020-06-19T16:36:25.902928Z",
     "start_time": "2020-06-19T16:35:25.770951Z"
    }
   },
   "outputs": [],
   "source": [
    "os.makedirs('ml-cards', exist_ok=True) # crir um diretório para armazenar as fotos\n",
    "\n",
    "for title, url in media_files.items():\n",
    "   wget.download(url, out = \"ml-cards/{}.png\".format(title)) #Pegue as photos!"
   ]
  },
  {
   "cell_type": "code",
   "execution_count": null,
   "metadata": {},
   "outputs": [],
   "source": []
  }
 ],
 "metadata": {
  "kernelspec": {
   "name": "python385jvsc74a57bd0dca0ade3e726a953b501b15e8e990130d2b7799f14cfd9f4271676035ebe5511",
   "display_name": "Python 3.8.5 64-bit ('base': conda)"
  },
  "language_info": {
   "codemirror_mode": {
    "name": "ipython",
    "version": 3
   },
   "file_extension": ".py",
   "mimetype": "text/x-python",
   "name": "python",
   "nbconvert_exporter": "python",
   "pygments_lexer": "ipython3",
   "version": "3.8.5"
  },
  "toc": {
   "base_numbering": 1,
   "nav_menu": {},
   "number_sections": true,
   "sideBar": true,
   "skip_h1_title": false,
   "title_cell": "Table of Contents",
   "title_sidebar": "Contents",
   "toc_cell": false,
   "toc_position": {},
   "toc_section_display": true,
   "toc_window_display": false
  },
  "varInspector": {
   "cols": {
    "lenName": 16,
    "lenType": 16,
    "lenVar": 40
   },
   "kernels_config": {
    "python": {
     "delete_cmd_postfix": "",
     "delete_cmd_prefix": "del ",
     "library": "var_list.py",
     "varRefreshCmd": "print(var_dic_list())"
    },
    "r": {
     "delete_cmd_postfix": ") ",
     "delete_cmd_prefix": "rm(",
     "library": "var_list.r",
     "varRefreshCmd": "cat(var_dic_list()) "
    }
   },
   "types_to_exclude": [
    "module",
    "function",
    "builtin_function_or_method",
    "instance",
    "_Feature"
   ],
   "window_display": false
  }
 },
 "nbformat": 4,
 "nbformat_minor": 2
}